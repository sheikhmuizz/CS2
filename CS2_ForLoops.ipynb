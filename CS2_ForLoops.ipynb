{
  "nbformat": 4,
  "nbformat_minor": 0,
  "metadata": {
    "colab": {
      "provenance": []
    },
    "kernelspec": {
      "name": "python3",
      "display_name": "Python 3"
    },
    "language_info": {
      "name": "python"
    }
  },
  "cells": [
    {
      "cell_type": "markdown",
      "source": [
        "Write a program that prints all the even numbers from 0 to 100."
      ],
      "metadata": {
        "id": "YTlOM4Yfwrks"
      }
    },
    {
      "cell_type": "code",
      "execution_count": 5,
      "metadata": {
        "id": "uL55AfQXpdFM",
        "colab": {
          "base_uri": "https://localhost:8080/"
        },
        "outputId": "5636495a-c50f-4768-fe28-4335f6d2f67d"
      },
      "outputs": [
        {
          "output_type": "stream",
          "name": "stdout",
          "text": [
            "0\n",
            "2\n",
            "4\n",
            "6\n",
            "8\n",
            "10\n",
            "12\n",
            "14\n",
            "16\n",
            "18\n",
            "20\n",
            "22\n",
            "24\n",
            "26\n",
            "28\n",
            "30\n",
            "32\n",
            "34\n",
            "36\n",
            "38\n",
            "40\n",
            "42\n",
            "44\n",
            "46\n",
            "48\n",
            "50\n",
            "52\n",
            "54\n",
            "56\n",
            "58\n",
            "60\n",
            "62\n",
            "64\n",
            "66\n",
            "68\n",
            "70\n",
            "72\n",
            "74\n",
            "76\n",
            "78\n",
            "80\n",
            "82\n",
            "84\n",
            "86\n",
            "88\n",
            "90\n",
            "92\n",
            "94\n",
            "96\n",
            "98\n",
            "100\n"
          ]
        }
      ],
      "source": [
        "#how do i check if something is even or odd?\n",
        "# % modulous number %2 == 0\n",
        "# i is known as an iterator variable\n",
        "for number in range(0,101,1):\n",
        "  if number % 2 == 0:\n",
        "    print(number)"
      ]
    },
    {
      "cell_type": "markdown",
      "source": [
        "Write a program that takes a string input and counts how many vowels are in the string."
      ],
      "metadata": {
        "id": "rBlSwtdiwt2f"
      }
    },
    {
      "cell_type": "code",
      "source": [
        "'''\n",
        "\n",
        "word = input(\"Word: \")\n",
        "length = len(word)\n",
        "count = 0\n",
        "for i in range(length):\n",
        "  if word[i] == \"a\" or word[i] ==\"A\" or word[i]== \"o\":\n",
        "    count = count + 1\n",
        "  elif word[i] == \"e\":\n",
        "    count = count + 1\n",
        "\n",
        "print(count)\n",
        "\n",
        "'''\n",
        "\n",
        "word = input(\"Word: \")\n",
        "count = 0\n",
        "\n",
        "for char in word:\n",
        "  if char == \"a\":\n",
        "    count = count + 1\n",
        "\n",
        "print(count)"
      ],
      "metadata": {
        "id": "xM4pBcjYxD1P",
        "colab": {
          "base_uri": "https://localhost:8080/"
        },
        "outputId": "95425526-569f-4379-ec61-4c3d5777ce2a"
      },
      "execution_count": 11,
      "outputs": [
        {
          "output_type": "stream",
          "name": "stdout",
          "text": [
            "Word: banana\n",
            "3\n"
          ]
        }
      ]
    },
    {
      "cell_type": "markdown",
      "source": [
        "Write a program that repeatedly asks the user to input a number. The loop should stop when the user enters a negative number."
      ],
      "metadata": {
        "id": "CuvJ4kUcxScs"
      }
    },
    {
      "cell_type": "code",
      "source": [
        "'''\n",
        "\n",
        "while True:\n",
        "  number = int(input(\"Give me a number, type a negative to quit\"))\n",
        "  if number < 0:\n",
        "    break\n",
        "'''\n",
        "\n",
        "number = 1\n",
        "try_again = \"yes\"\n",
        "\n",
        "while number > 0:\n",
        "  number = int(input(\"Give me a number: \"))\n",
        "  #try_again = input(\"Would you like to continue? \")\n"
      ],
      "metadata": {
        "id": "-2poeyp4xTO6",
        "colab": {
          "base_uri": "https://localhost:8080/"
        },
        "outputId": "817ad0ac-9fc1-4b23-9923-e8a4b046d6fe"
      },
      "execution_count": 13,
      "outputs": [
        {
          "name": "stdout",
          "output_type": "stream",
          "text": [
            "Give me a number: 2\n",
            "Give me a number: 3\n",
            "Give me a number: -4\n"
          ]
        }
      ]
    },
    {
      "cell_type": "markdown",
      "source": [
        "Write a program that loops through the letters in the string \"PythonProgramming\" and print each letter,but skips any occurrence of the letter \"o\". The program should stop completely when it hits the letter \"g\"."
      ],
      "metadata": {
        "id": "3LjkZSyPwxg9"
      }
    },
    {
      "cell_type": "code",
      "source": [
        "word = \"PythonProgramming\"\n",
        "for i in word:\n",
        "  if i == 1:\n",
        "    continue # take it from the top and skip\n",
        "  elif i == 3:\n",
        "    break  # oh no let's get out of this, peace!\n",
        "  print(i)"
      ],
      "metadata": {
        "id": "j953BD9bxENY",
        "colab": {
          "base_uri": "https://localhost:8080/"
        },
        "outputId": "0dd2e42b-aab5-4f3a-a086-0c2da0df8562"
      },
      "execution_count": 16,
      "outputs": [
        {
          "output_type": "stream",
          "name": "stdout",
          "text": [
            "0\n",
            "2\n"
          ]
        }
      ]
    },
    {
      "cell_type": "markdown",
      "source": [
        "Write a program that takes a string and counts how many times the character 'a' appears in the string."
      ],
      "metadata": {
        "id": "fTc2LGpfxEnb"
      }
    },
    {
      "cell_type": "code",
      "source": [],
      "metadata": {
        "id": "F0RbVd5txnPL"
      },
      "execution_count": null,
      "outputs": []
    },
    {
      "cell_type": "markdown",
      "source": [
        "Challenge:Write a program that takes a string where words are separated by spaces and counts how many words are in the string (you can assume a single space between words)."
      ],
      "metadata": {
        "id": "zxvdLhgYxny1"
      }
    },
    {
      "cell_type": "code",
      "source": [],
      "metadata": {
        "id": "9o6khl_axtRB"
      },
      "execution_count": null,
      "outputs": []
    }
  ]
}